{
 "cells": [
  {
   "cell_type": "markdown",
   "id": "459412c0",
   "metadata": {},
   "source": [
    "# Baseline Staff"
   ]
  },
  {
   "cell_type": "code",
   "execution_count": 11,
   "id": "de5bc4a7",
   "metadata": {
    "_cell_guid": "b1076dfc-b9ad-4769-8c92-a6c4dae69d19",
    "_uuid": "8f2839f25d086af736a60e9eeb907d3b93b6e0e5",
    "execution": {
     "iopub.execute_input": "2022-08-21T16:30:19.859715Z",
     "iopub.status.busy": "2022-08-21T16:30:19.858901Z",
     "iopub.status.idle": "2022-08-21T16:30:21.103494Z",
     "shell.execute_reply": "2022-08-21T16:30:21.102295Z"
    },
    "papermill": {
     "duration": 1.254504,
     "end_time": "2022-08-21T16:30:21.106437",
     "exception": false,
     "start_time": "2022-08-21T16:30:19.851933",
     "status": "completed"
    },
    "tags": []
   },
   "outputs": [],
   "source": [
    "import numpy as np\n",
    "import pandas as pd\n",
    "from sklearn.metrics import mean_absolute_error\n",
    "from sklearn.model_selection import cross_validate\n",
    "from xgboost import XGBRegressor\n",
    "from category_encoders.count import CountEncoder"
   ]
  },
  {
   "cell_type": "markdown",
   "id": "1e8bc2df",
   "metadata": {
    "papermill": {
     "duration": 0.004137,
     "end_time": "2022-08-21T16:30:21.115070",
     "exception": false,
     "start_time": "2022-08-21T16:30:21.110933",
     "status": "completed"
    },
    "tags": []
   },
   "source": [
    "## Data ingest (Carregar dados)"
   ]
  },
  {
   "cell_type": "code",
   "execution_count": 3,
   "id": "90b70922",
   "metadata": {
    "execution": {
     "iopub.execute_input": "2022-08-21T16:30:21.125107Z",
     "iopub.status.busy": "2022-08-21T16:30:21.124266Z",
     "iopub.status.idle": "2022-08-21T16:30:21.972220Z",
     "shell.execute_reply": "2022-08-21T16:30:21.970842Z"
    },
    "papermill": {
     "duration": 0.857616,
     "end_time": "2022-08-21T16:30:21.976648",
     "exception": false,
     "start_time": "2022-08-21T16:30:21.119032",
     "status": "completed"
    },
    "tags": []
   },
   "outputs": [],
   "source": [
    "df_train = pd.read_csv('datasets/treino.csv')\n",
    "df_test = pd.read_csv('datasets/teste.csv')"
   ]
  },
  {
   "cell_type": "code",
   "execution_count": null,
   "id": "01e9c0c5",
   "metadata": {},
   "outputs": [],
   "source": [
    "y = df_train['preco']\n",
    "X = df_train.drop(columns=['ID', 'preco'])\n"
   ]
  },
  {
   "cell_type": "markdown",
   "id": "a5f4163a",
   "metadata": {
    "papermill": {
     "duration": 0.00615,
     "end_time": "2022-08-21T16:30:21.990148",
     "exception": false,
     "start_time": "2022-08-21T16:30:21.983998",
     "status": "completed"
    },
    "tags": []
   },
   "source": [
    "## Features-class-split (Separar dados em classe (y) e features (X))"
   ]
  },
  {
   "cell_type": "code",
   "execution_count": 4,
   "id": "ada9925a",
   "metadata": {
    "execution": {
     "iopub.execute_input": "2022-08-21T16:30:22.004693Z",
     "iopub.status.busy": "2022-08-21T16:30:22.004329Z",
     "iopub.status.idle": "2022-08-21T16:30:22.028363Z",
     "shell.execute_reply": "2022-08-21T16:30:22.027342Z"
    },
    "papermill": {
     "duration": 0.034556,
     "end_time": "2022-08-21T16:30:22.031463",
     "exception": false,
     "start_time": "2022-08-21T16:30:21.996907",
     "status": "completed"
    },
    "tags": []
   },
   "outputs": [],
   "source": [
    "y = df_train['preco']\n",
    "X = df_train.drop(columns=['ID', 'preco'])\n",
    "cat_cols = df_train.select_dtypes(include=['object']).columns[1:]\n",
    "\n",
    "te = CountEncoder(cols=cat_cols, return_df=True)\n",
    "X_pp = te.fit_transform(df_train.drop(columns=['ID', 'preco']), df_train['preco'])\n",
    "\n",
    "X_pp = X_pp.fillna(0)\n",
    "\n",
    "xgb_tuned = XGBRegressor(n_estimators= 1700, eta= 0.01, max_depth= 9, subsample= 0.5, colsample_bytree= 0.5, min_child_weight= 3) \n",
    "xgb_tuned.fit(X_pp, y)\n",
    "\n",
    "X_test_pp = te.transform(df_test.drop(columns=['ID']))\n",
    "X_test_pp = X_test_pp.fillna(0)\n",
    "\n",
    "pred = xgb.predict(X_test_pp)\n",
    "\n",
    "df_final = pd.concat([df_test[['ID']], pd.Series(pred, name='preco')], axis=1)\n",
    "df_final.head()\n",
    "\n",
    "df_final.to_csv('submission.csv', index=False) "
   ]
  },
  {
   "cell_type": "markdown",
   "id": "5ec8dad3",
   "metadata": {
    "papermill": {
     "duration": 0.006633,
     "end_time": "2022-08-21T16:30:22.045073",
     "exception": false,
     "start_time": "2022-08-21T16:30:22.038440",
     "status": "completed"
    },
    "tags": []
   },
   "source": [
    "## CountEncoder (Transformar colunas qualitativas em quantitativas)"
   ]
  },
  {
   "cell_type": "code",
   "execution_count": 5,
   "id": "41cdf881",
   "metadata": {
    "execution": {
     "iopub.execute_input": "2022-08-21T16:30:22.059623Z",
     "iopub.status.busy": "2022-08-21T16:30:22.059295Z",
     "iopub.status.idle": "2022-08-21T16:30:23.308010Z",
     "shell.execute_reply": "2022-08-21T16:30:23.307041Z"
    },
    "papermill": {
     "duration": 1.259038,
     "end_time": "2022-08-21T16:30:23.310399",
     "exception": false,
     "start_time": "2022-08-21T16:30:22.051361",
     "status": "completed"
    },
    "tags": []
   },
   "outputs": [],
   "source": [
    "cat_cols = df_train.select_dtypes(include=['object']).columns[1:]\n",
    "\n",
    "te = CountEncoder(cols=cat_cols, return_df=True)\n",
    "X_pp = te.fit_transform(df_train.drop(columns=['ID', 'preco']), df_train['preco'])"
   ]
  },
  {
   "cell_type": "markdown",
   "id": "952c7b24",
   "metadata": {
    "papermill": {
     "duration": 0.003386,
     "end_time": "2022-08-21T16:30:23.317959",
     "exception": false,
     "start_time": "2022-08-21T16:30:23.314573",
     "status": "completed"
    },
    "tags": []
   },
   "source": [
    "## Fill NAN values (preencher células vazias com zero)"
   ]
  },
  {
   "cell_type": "code",
   "execution_count": 6,
   "id": "6ed4074c",
   "metadata": {
    "execution": {
     "iopub.execute_input": "2022-08-21T16:30:23.326248Z",
     "iopub.status.busy": "2022-08-21T16:30:23.325950Z",
     "iopub.status.idle": "2022-08-21T16:30:23.339196Z",
     "shell.execute_reply": "2022-08-21T16:30:23.338234Z"
    },
    "papermill": {
     "duration": 0.020026,
     "end_time": "2022-08-21T16:30:23.341410",
     "exception": false,
     "start_time": "2022-08-21T16:30:23.321384",
     "status": "completed"
    },
    "tags": []
   },
   "outputs": [],
   "source": [
    "X_pp = X_pp.fillna(0)"
   ]
  },
  {
   "cell_type": "markdown",
   "id": "7690f6b1",
   "metadata": {
    "papermill": {
     "duration": 0.003527,
     "end_time": "2022-08-21T16:30:23.348839",
     "exception": false,
     "start_time": "2022-08-21T16:30:23.345312",
     "status": "completed"
    },
    "tags": []
   },
   "source": [
    "## Model development (treino do modelo)"
   ]
  },
  {
   "cell_type": "code",
   "execution_count": 7,
   "id": "424fe15e",
   "metadata": {
    "execution": {
     "iopub.execute_input": "2022-08-21T16:30:23.358851Z",
     "iopub.status.busy": "2022-08-21T16:30:23.357263Z",
     "iopub.status.idle": "2022-08-21T16:30:31.057556Z",
     "shell.execute_reply": "2022-08-21T16:30:31.056781Z"
    },
    "papermill": {
     "duration": 7.707106,
     "end_time": "2022-08-21T16:30:31.059956",
     "exception": false,
     "start_time": "2022-08-21T16:30:23.352850",
     "status": "completed"
    },
    "tags": []
   },
   "outputs": [
    {
     "data": {
      "text/html": [
       "<style>#sk-container-id-1 {color: black;background-color: white;}#sk-container-id-1 pre{padding: 0;}#sk-container-id-1 div.sk-toggleable {background-color: white;}#sk-container-id-1 label.sk-toggleable__label {cursor: pointer;display: block;width: 100%;margin-bottom: 0;padding: 0.3em;box-sizing: border-box;text-align: center;}#sk-container-id-1 label.sk-toggleable__label-arrow:before {content: \"▸\";float: left;margin-right: 0.25em;color: #696969;}#sk-container-id-1 label.sk-toggleable__label-arrow:hover:before {color: black;}#sk-container-id-1 div.sk-estimator:hover label.sk-toggleable__label-arrow:before {color: black;}#sk-container-id-1 div.sk-toggleable__content {max-height: 0;max-width: 0;overflow: hidden;text-align: left;background-color: #f0f8ff;}#sk-container-id-1 div.sk-toggleable__content pre {margin: 0.2em;color: black;border-radius: 0.25em;background-color: #f0f8ff;}#sk-container-id-1 input.sk-toggleable__control:checked~div.sk-toggleable__content {max-height: 200px;max-width: 100%;overflow: auto;}#sk-container-id-1 input.sk-toggleable__control:checked~label.sk-toggleable__label-arrow:before {content: \"▾\";}#sk-container-id-1 div.sk-estimator input.sk-toggleable__control:checked~label.sk-toggleable__label {background-color: #d4ebff;}#sk-container-id-1 div.sk-label input.sk-toggleable__control:checked~label.sk-toggleable__label {background-color: #d4ebff;}#sk-container-id-1 input.sk-hidden--visually {border: 0;clip: rect(1px 1px 1px 1px);clip: rect(1px, 1px, 1px, 1px);height: 1px;margin: -1px;overflow: hidden;padding: 0;position: absolute;width: 1px;}#sk-container-id-1 div.sk-estimator {font-family: monospace;background-color: #f0f8ff;border: 1px dotted black;border-radius: 0.25em;box-sizing: border-box;margin-bottom: 0.5em;}#sk-container-id-1 div.sk-estimator:hover {background-color: #d4ebff;}#sk-container-id-1 div.sk-parallel-item::after {content: \"\";width: 100%;border-bottom: 1px solid gray;flex-grow: 1;}#sk-container-id-1 div.sk-label:hover label.sk-toggleable__label {background-color: #d4ebff;}#sk-container-id-1 div.sk-serial::before {content: \"\";position: absolute;border-left: 1px solid gray;box-sizing: border-box;top: 0;bottom: 0;left: 50%;z-index: 0;}#sk-container-id-1 div.sk-serial {display: flex;flex-direction: column;align-items: center;background-color: white;padding-right: 0.2em;padding-left: 0.2em;position: relative;}#sk-container-id-1 div.sk-item {position: relative;z-index: 1;}#sk-container-id-1 div.sk-parallel {display: flex;align-items: stretch;justify-content: center;background-color: white;position: relative;}#sk-container-id-1 div.sk-item::before, #sk-container-id-1 div.sk-parallel-item::before {content: \"\";position: absolute;border-left: 1px solid gray;box-sizing: border-box;top: 0;bottom: 0;left: 50%;z-index: -1;}#sk-container-id-1 div.sk-parallel-item {display: flex;flex-direction: column;z-index: 1;position: relative;background-color: white;}#sk-container-id-1 div.sk-parallel-item:first-child::after {align-self: flex-end;width: 50%;}#sk-container-id-1 div.sk-parallel-item:last-child::after {align-self: flex-start;width: 50%;}#sk-container-id-1 div.sk-parallel-item:only-child::after {width: 0;}#sk-container-id-1 div.sk-dashed-wrapped {border: 1px dashed gray;margin: 0 0.4em 0.5em 0.4em;box-sizing: border-box;padding-bottom: 0.4em;background-color: white;}#sk-container-id-1 div.sk-label label {font-family: monospace;font-weight: bold;display: inline-block;line-height: 1.2em;}#sk-container-id-1 div.sk-label-container {text-align: center;}#sk-container-id-1 div.sk-container {/* jupyter's `normalize.less` sets `[hidden] { display: none; }` but bootstrap.min.css set `[hidden] { display: none !important; }` so we also need the `!important` here to be able to override the default hidden behavior on the sphinx rendered scikit-learn.org. See: https://github.com/scikit-learn/scikit-learn/issues/21755 */display: inline-block !important;position: relative;}#sk-container-id-1 div.sk-text-repr-fallback {display: none;}</style><div id=\"sk-container-id-1\" class=\"sk-top-container\"><div class=\"sk-text-repr-fallback\"><pre>XGBRegressor(base_score=0.5, booster=&#x27;gbtree&#x27;, callbacks=None,\n",
       "             colsample_bylevel=1, colsample_bynode=1, colsample_bytree=1,\n",
       "             early_stopping_rounds=None, enable_categorical=False,\n",
       "             eval_metric=None, gamma=0, gpu_id=-1, grow_policy=&#x27;depthwise&#x27;,\n",
       "             importance_type=None, interaction_constraints=&#x27;&#x27;,\n",
       "             learning_rate=0.300000012, max_bin=256, max_cat_to_onehot=4,\n",
       "             max_delta_step=0, max_depth=6, max_leaves=0, min_child_weight=1,\n",
       "             missing=nan, monotone_constraints=&#x27;()&#x27;, n_estimators=100, n_jobs=0,\n",
       "             num_parallel_tree=1, predictor=&#x27;auto&#x27;, random_state=42,\n",
       "             reg_alpha=0, reg_lambda=1, ...)</pre><b>In a Jupyter environment, please rerun this cell to show the HTML representation or trust the notebook. <br />On GitHub, the HTML representation is unable to render, please try loading this page with nbviewer.org.</b></div><div class=\"sk-container\" hidden><div class=\"sk-item\"><div class=\"sk-estimator sk-toggleable\"><input class=\"sk-toggleable__control sk-hidden--visually\" id=\"sk-estimator-id-1\" type=\"checkbox\" checked><label for=\"sk-estimator-id-1\" class=\"sk-toggleable__label sk-toggleable__label-arrow\">XGBRegressor</label><div class=\"sk-toggleable__content\"><pre>XGBRegressor(base_score=0.5, booster=&#x27;gbtree&#x27;, callbacks=None,\n",
       "             colsample_bylevel=1, colsample_bynode=1, colsample_bytree=1,\n",
       "             early_stopping_rounds=None, enable_categorical=False,\n",
       "             eval_metric=None, gamma=0, gpu_id=-1, grow_policy=&#x27;depthwise&#x27;,\n",
       "             importance_type=None, interaction_constraints=&#x27;&#x27;,\n",
       "             learning_rate=0.300000012, max_bin=256, max_cat_to_onehot=4,\n",
       "             max_delta_step=0, max_depth=6, max_leaves=0, min_child_weight=1,\n",
       "             missing=nan, monotone_constraints=&#x27;()&#x27;, n_estimators=100, n_jobs=0,\n",
       "             num_parallel_tree=1, predictor=&#x27;auto&#x27;, random_state=42,\n",
       "             reg_alpha=0, reg_lambda=1, ...)</pre></div></div></div></div></div>"
      ],
      "text/plain": [
       "XGBRegressor(base_score=0.5, booster='gbtree', callbacks=None,\n",
       "             colsample_bylevel=1, colsample_bynode=1, colsample_bytree=1,\n",
       "             early_stopping_rounds=None, enable_categorical=False,\n",
       "             eval_metric=None, gamma=0, gpu_id=-1, grow_policy='depthwise',\n",
       "             importance_type=None, interaction_constraints='',\n",
       "             learning_rate=0.300000012, max_bin=256, max_cat_to_onehot=4,\n",
       "             max_delta_step=0, max_depth=6, max_leaves=0, min_child_weight=1,\n",
       "             missing=nan, monotone_constraints='()', n_estimators=100, n_jobs=0,\n",
       "             num_parallel_tree=1, predictor='auto', random_state=42,\n",
       "             reg_alpha=0, reg_lambda=1, ...)"
      ]
     },
     "execution_count": 7,
     "metadata": {},
     "output_type": "execute_result"
    }
   ],
   "source": [
    "xgb = XGBRegressor(random_state=42)\n",
    "xgb.fit(X_pp, y)"
   ]
  },
  {
   "cell_type": "code",
   "execution_count": 13,
   "id": "ea2cf787",
   "metadata": {},
   "outputs": [
    {
     "data": {
      "text/plain": [
       "{'fit_time': array([20.72739005, 14.05925179, 12.46613717, 10.30596089, 10.39402199]),\n",
       " 'score_time': array([0.11774087, 0.06497216, 0.06764102, 0.08177686, 0.06970787]),\n",
       " 'test_score': array([-27447.44848654, -27776.9627502 , -27419.58262113, -28078.66509503,\n",
       "        -27644.96926975])}"
      ]
     },
     "execution_count": 13,
     "metadata": {},
     "output_type": "execute_result"
    }
   ],
   "source": [
    "cross_validate(xgb, X_pp, y, cv=5 , scoring = 'neg_mean_absolute_error')"
   ]
  },
  {
   "cell_type": "markdown",
   "id": "cc4ac1f2",
   "metadata": {
    "papermill": {
     "duration": 0.003464,
     "end_time": "2022-08-21T16:30:31.067582",
     "exception": false,
     "start_time": "2022-08-21T16:30:31.064118",
     "status": "completed"
    },
    "tags": []
   },
   "source": [
    "## Feature Eng. (Aplicar mesmas transformações no dataset de teste)"
   ]
  },
  {
   "cell_type": "code",
   "execution_count": 8,
   "id": "6f16c78d",
   "metadata": {
    "execution": {
     "iopub.execute_input": "2022-08-21T16:30:31.076722Z",
     "iopub.status.busy": "2022-08-21T16:30:31.076069Z",
     "iopub.status.idle": "2022-08-21T16:30:31.378239Z",
     "shell.execute_reply": "2022-08-21T16:30:31.377255Z"
    },
    "papermill": {
     "duration": 0.309877,
     "end_time": "2022-08-21T16:30:31.381049",
     "exception": false,
     "start_time": "2022-08-21T16:30:31.071172",
     "status": "completed"
    },
    "tags": []
   },
   "outputs": [],
   "source": [
    "X_test_pp = te.transform(df_test.drop(columns=['ID']))\n",
    "X_test_pp = X_test_pp.fillna(0)"
   ]
  },
  {
   "cell_type": "markdown",
   "id": "909643b2",
   "metadata": {
    "papermill": {
     "duration": 0.003523,
     "end_time": "2022-08-21T16:30:31.389017",
     "exception": false,
     "start_time": "2022-08-21T16:30:31.385494",
     "status": "completed"
    },
    "tags": []
   },
   "source": [
    "## Predict the test dataset (Prever preços) "
   ]
  },
  {
   "cell_type": "code",
   "execution_count": 9,
   "id": "e97f28a0",
   "metadata": {
    "execution": {
     "iopub.execute_input": "2022-08-21T16:30:31.398218Z",
     "iopub.status.busy": "2022-08-21T16:30:31.397926Z",
     "iopub.status.idle": "2022-08-21T16:30:31.555430Z",
     "shell.execute_reply": "2022-08-21T16:30:31.554511Z"
    },
    "papermill": {
     "duration": 0.165111,
     "end_time": "2022-08-21T16:30:31.557926",
     "exception": false,
     "start_time": "2022-08-21T16:30:31.392815",
     "status": "completed"
    },
    "tags": []
   },
   "outputs": [],
   "source": [
    "pred = xgb.predict(X_test_pp)"
   ]
  },
  {
   "cell_type": "markdown",
   "id": "efafb043",
   "metadata": {
    "papermill": {
     "duration": 0.004362,
     "end_time": "2022-08-21T16:30:31.566848",
     "exception": false,
     "start_time": "2022-08-21T16:30:31.562486",
     "status": "completed"
    },
    "tags": []
   },
   "source": [
    "## Final solution (gerar base final para envio no kaggle)"
   ]
  },
  {
   "cell_type": "code",
   "execution_count": 9,
   "id": "efe8aa53",
   "metadata": {
    "execution": {
     "iopub.execute_input": "2022-08-21T16:30:31.576247Z",
     "iopub.status.busy": "2022-08-21T16:30:31.575731Z",
     "iopub.status.idle": "2022-08-21T16:30:31.593906Z",
     "shell.execute_reply": "2022-08-21T16:30:31.592798Z"
    },
    "papermill": {
     "duration": 0.025614,
     "end_time": "2022-08-21T16:30:31.596440",
     "exception": false,
     "start_time": "2022-08-21T16:30:31.570826",
     "status": "completed"
    },
    "tags": []
   },
   "outputs": [
    {
     "data": {
      "text/html": [
       "<div>\n",
       "<style scoped>\n",
       "    .dataframe tbody tr th:only-of-type {\n",
       "        vertical-align: middle;\n",
       "    }\n",
       "\n",
       "    .dataframe tbody tr th {\n",
       "        vertical-align: top;\n",
       "    }\n",
       "\n",
       "    .dataframe thead th {\n",
       "        text-align: right;\n",
       "    }\n",
       "</style>\n",
       "<table border=\"1\" class=\"dataframe\">\n",
       "  <thead>\n",
       "    <tr style=\"text-align: right;\">\n",
       "      <th></th>\n",
       "      <th>ID</th>\n",
       "      <th>preco</th>\n",
       "    </tr>\n",
       "  </thead>\n",
       "  <tbody>\n",
       "    <tr>\n",
       "      <th>0</th>\n",
       "      <td>24813264385557040124808779273028388499</td>\n",
       "      <td>72607.984375</td>\n",
       "    </tr>\n",
       "    <tr>\n",
       "      <th>1</th>\n",
       "      <td>295636316453795508942188530111300065666</td>\n",
       "      <td>100428.125000</td>\n",
       "    </tr>\n",
       "    <tr>\n",
       "      <th>2</th>\n",
       "      <td>101258309166227950735244624080888109884</td>\n",
       "      <td>95063.054688</td>\n",
       "    </tr>\n",
       "    <tr>\n",
       "      <th>3</th>\n",
       "      <td>28348734455782469411126661985772047409</td>\n",
       "      <td>78029.687500</td>\n",
       "    </tr>\n",
       "    <tr>\n",
       "      <th>4</th>\n",
       "      <td>193163160502972147671913739170248305797</td>\n",
       "      <td>117917.335938</td>\n",
       "    </tr>\n",
       "  </tbody>\n",
       "</table>\n",
       "</div>"
      ],
      "text/plain": [
       "                                        ID          preco\n",
       "0   24813264385557040124808779273028388499   72607.984375\n",
       "1  295636316453795508942188530111300065666  100428.125000\n",
       "2  101258309166227950735244624080888109884   95063.054688\n",
       "3   28348734455782469411126661985772047409   78029.687500\n",
       "4  193163160502972147671913739170248305797  117917.335938"
      ]
     },
     "execution_count": 9,
     "metadata": {},
     "output_type": "execute_result"
    }
   ],
   "source": [
    "df_final = pd.concat([df_test[['ID']], pd.Series(pred, name='preco')], axis=1)\n",
    "df_final.head()"
   ]
  },
  {
   "cell_type": "code",
   "execution_count": 10,
   "id": "da7310e8",
   "metadata": {
    "execution": {
     "iopub.execute_input": "2022-08-21T16:30:31.605685Z",
     "iopub.status.busy": "2022-08-21T16:30:31.605427Z",
     "iopub.status.idle": "2022-08-21T16:30:31.702500Z",
     "shell.execute_reply": "2022-08-21T16:30:31.701551Z"
    },
    "papermill": {
     "duration": 0.104748,
     "end_time": "2022-08-21T16:30:31.705071",
     "exception": false,
     "start_time": "2022-08-21T16:30:31.600323",
     "status": "completed"
    },
    "tags": []
   },
   "outputs": [],
   "source": [
    "df_final.to_csv('submission.csv', index=False) #Arquivo de submissão pronto para ser enviado."
   ]
  },
  {
   "cell_type": "markdown",
   "id": "81ff9a16",
   "metadata": {},
   "source": [
    "# Modelo 1"
   ]
  },
  {
   "cell_type": "markdown",
   "id": "052b55a3",
   "metadata": {},
   "source": [
    "Params: n_estimators= 1700, eta= 0.01, max_depth= 9, subsample= 0.5, colsample_bytree= 0.5, min_child_weight= 3"
   ]
  },
  {
   "cell_type": "code",
   "execution_count": 15,
   "id": "6d615bb2",
   "metadata": {},
   "outputs": [
    {
     "data": {
      "text/html": [
       "<style>#sk-container-id-2 {color: black;background-color: white;}#sk-container-id-2 pre{padding: 0;}#sk-container-id-2 div.sk-toggleable {background-color: white;}#sk-container-id-2 label.sk-toggleable__label {cursor: pointer;display: block;width: 100%;margin-bottom: 0;padding: 0.3em;box-sizing: border-box;text-align: center;}#sk-container-id-2 label.sk-toggleable__label-arrow:before {content: \"▸\";float: left;margin-right: 0.25em;color: #696969;}#sk-container-id-2 label.sk-toggleable__label-arrow:hover:before {color: black;}#sk-container-id-2 div.sk-estimator:hover label.sk-toggleable__label-arrow:before {color: black;}#sk-container-id-2 div.sk-toggleable__content {max-height: 0;max-width: 0;overflow: hidden;text-align: left;background-color: #f0f8ff;}#sk-container-id-2 div.sk-toggleable__content pre {margin: 0.2em;color: black;border-radius: 0.25em;background-color: #f0f8ff;}#sk-container-id-2 input.sk-toggleable__control:checked~div.sk-toggleable__content {max-height: 200px;max-width: 100%;overflow: auto;}#sk-container-id-2 input.sk-toggleable__control:checked~label.sk-toggleable__label-arrow:before {content: \"▾\";}#sk-container-id-2 div.sk-estimator input.sk-toggleable__control:checked~label.sk-toggleable__label {background-color: #d4ebff;}#sk-container-id-2 div.sk-label input.sk-toggleable__control:checked~label.sk-toggleable__label {background-color: #d4ebff;}#sk-container-id-2 input.sk-hidden--visually {border: 0;clip: rect(1px 1px 1px 1px);clip: rect(1px, 1px, 1px, 1px);height: 1px;margin: -1px;overflow: hidden;padding: 0;position: absolute;width: 1px;}#sk-container-id-2 div.sk-estimator {font-family: monospace;background-color: #f0f8ff;border: 1px dotted black;border-radius: 0.25em;box-sizing: border-box;margin-bottom: 0.5em;}#sk-container-id-2 div.sk-estimator:hover {background-color: #d4ebff;}#sk-container-id-2 div.sk-parallel-item::after {content: \"\";width: 100%;border-bottom: 1px solid gray;flex-grow: 1;}#sk-container-id-2 div.sk-label:hover label.sk-toggleable__label {background-color: #d4ebff;}#sk-container-id-2 div.sk-serial::before {content: \"\";position: absolute;border-left: 1px solid gray;box-sizing: border-box;top: 0;bottom: 0;left: 50%;z-index: 0;}#sk-container-id-2 div.sk-serial {display: flex;flex-direction: column;align-items: center;background-color: white;padding-right: 0.2em;padding-left: 0.2em;position: relative;}#sk-container-id-2 div.sk-item {position: relative;z-index: 1;}#sk-container-id-2 div.sk-parallel {display: flex;align-items: stretch;justify-content: center;background-color: white;position: relative;}#sk-container-id-2 div.sk-item::before, #sk-container-id-2 div.sk-parallel-item::before {content: \"\";position: absolute;border-left: 1px solid gray;box-sizing: border-box;top: 0;bottom: 0;left: 50%;z-index: -1;}#sk-container-id-2 div.sk-parallel-item {display: flex;flex-direction: column;z-index: 1;position: relative;background-color: white;}#sk-container-id-2 div.sk-parallel-item:first-child::after {align-self: flex-end;width: 50%;}#sk-container-id-2 div.sk-parallel-item:last-child::after {align-self: flex-start;width: 50%;}#sk-container-id-2 div.sk-parallel-item:only-child::after {width: 0;}#sk-container-id-2 div.sk-dashed-wrapped {border: 1px dashed gray;margin: 0 0.4em 0.5em 0.4em;box-sizing: border-box;padding-bottom: 0.4em;background-color: white;}#sk-container-id-2 div.sk-label label {font-family: monospace;font-weight: bold;display: inline-block;line-height: 1.2em;}#sk-container-id-2 div.sk-label-container {text-align: center;}#sk-container-id-2 div.sk-container {/* jupyter's `normalize.less` sets `[hidden] { display: none; }` but bootstrap.min.css set `[hidden] { display: none !important; }` so we also need the `!important` here to be able to override the default hidden behavior on the sphinx rendered scikit-learn.org. See: https://github.com/scikit-learn/scikit-learn/issues/21755 */display: inline-block !important;position: relative;}#sk-container-id-2 div.sk-text-repr-fallback {display: none;}</style><div id=\"sk-container-id-2\" class=\"sk-top-container\"><div class=\"sk-text-repr-fallback\"><pre>XGBRegressor(base_score=0.5, booster=&#x27;gbtree&#x27;, callbacks=None,\n",
       "             colsample_bylevel=1, colsample_bynode=1, colsample_bytree=0.5,\n",
       "             early_stopping_rounds=None, enable_categorical=False, eta=0.01,\n",
       "             eval_metric=None, gamma=0, gpu_id=-1, grow_policy=&#x27;depthwise&#x27;,\n",
       "             importance_type=None, interaction_constraints=&#x27;&#x27;,\n",
       "             learning_rate=0.00999999978, max_bin=256, max_cat_to_onehot=4,\n",
       "             max_delta_step=0, max_depth=9, max_leaves=0, min_child_weight=3,\n",
       "             missing=nan, monotone_constraints=&#x27;()&#x27;, n_estimators=1700,\n",
       "             n_jobs=0, num_parallel_tree=1, predictor=&#x27;auto&#x27;, random_state=0,\n",
       "             reg_alpha=0, ...)</pre><b>In a Jupyter environment, please rerun this cell to show the HTML representation or trust the notebook. <br />On GitHub, the HTML representation is unable to render, please try loading this page with nbviewer.org.</b></div><div class=\"sk-container\" hidden><div class=\"sk-item\"><div class=\"sk-estimator sk-toggleable\"><input class=\"sk-toggleable__control sk-hidden--visually\" id=\"sk-estimator-id-2\" type=\"checkbox\" checked><label for=\"sk-estimator-id-2\" class=\"sk-toggleable__label sk-toggleable__label-arrow\">XGBRegressor</label><div class=\"sk-toggleable__content\"><pre>XGBRegressor(base_score=0.5, booster=&#x27;gbtree&#x27;, callbacks=None,\n",
       "             colsample_bylevel=1, colsample_bynode=1, colsample_bytree=0.5,\n",
       "             early_stopping_rounds=None, enable_categorical=False, eta=0.01,\n",
       "             eval_metric=None, gamma=0, gpu_id=-1, grow_policy=&#x27;depthwise&#x27;,\n",
       "             importance_type=None, interaction_constraints=&#x27;&#x27;,\n",
       "             learning_rate=0.00999999978, max_bin=256, max_cat_to_onehot=4,\n",
       "             max_delta_step=0, max_depth=9, max_leaves=0, min_child_weight=3,\n",
       "             missing=nan, monotone_constraints=&#x27;()&#x27;, n_estimators=1700,\n",
       "             n_jobs=0, num_parallel_tree=1, predictor=&#x27;auto&#x27;, random_state=0,\n",
       "             reg_alpha=0, ...)</pre></div></div></div></div></div>"
      ],
      "text/plain": [
       "XGBRegressor(base_score=0.5, booster='gbtree', callbacks=None,\n",
       "             colsample_bylevel=1, colsample_bynode=1, colsample_bytree=0.5,\n",
       "             early_stopping_rounds=None, enable_categorical=False, eta=0.01,\n",
       "             eval_metric=None, gamma=0, gpu_id=-1, grow_policy='depthwise',\n",
       "             importance_type=None, interaction_constraints='',\n",
       "             learning_rate=0.00999999978, max_bin=256, max_cat_to_onehot=4,\n",
       "             max_delta_step=0, max_depth=9, max_leaves=0, min_child_weight=3,\n",
       "             missing=nan, monotone_constraints='()', n_estimators=1700,\n",
       "             n_jobs=0, num_parallel_tree=1, predictor='auto', random_state=0,\n",
       "             reg_alpha=0, ...)"
      ]
     },
     "execution_count": 15,
     "metadata": {},
     "output_type": "execute_result"
    }
   ],
   "source": [
    "xgb_tuned = XGBRegressor(n_estimators= 1700, eta= 0.01, max_depth= 9, subsample= 0.5, colsample_bytree= 0.5, min_child_weight= 3) \n",
    "xgb_tuned.fit(X_pp, y)"
   ]
  },
  {
   "cell_type": "code",
   "execution_count": 16,
   "id": "ab21de6f",
   "metadata": {},
   "outputs": [
    {
     "data": {
      "text/plain": [
       "{'fit_time': array([163.151371  , 159.17933106, 150.11592674, 151.90661311,\n",
       "        207.72365499]),\n",
       " 'score_time': array([0.88276291, 0.62014103, 1.03657699, 0.8207128 , 0.59203911]),\n",
       " 'test_score': array([-26154.63933659, -26267.77200115, -25789.06278024, -26403.18100797,\n",
       "        -26116.15320651])}"
      ]
     },
     "execution_count": 16,
     "metadata": {},
     "output_type": "execute_result"
    }
   ],
   "source": [
    "cross_validate(xgb_tuned, X_pp, y, cv=5 , scoring = 'neg_mean_absolute_error')"
   ]
  },
  {
   "cell_type": "code",
   "execution_count": 18,
   "id": "4dc9e898",
   "metadata": {},
   "outputs": [
    {
     "data": {
      "text/plain": [
       "-26146.161666492"
      ]
     },
     "execution_count": 18,
     "metadata": {},
     "output_type": "execute_result"
    }
   ],
   "source": [
    "MAE_tuned = [-26154.63933659, -26267.77200115, -25789.06278024, -26403.18100797,\n",
    "        -26116.15320651]\n",
    "np.mean(MAE_tuned)"
   ]
  },
  {
   "cell_type": "code",
   "execution_count": 19,
   "id": "2a8cf3c1",
   "metadata": {},
   "outputs": [
    {
     "data": {
      "text/html": [
       "<div>\n",
       "<style scoped>\n",
       "    .dataframe tbody tr th:only-of-type {\n",
       "        vertical-align: middle;\n",
       "    }\n",
       "\n",
       "    .dataframe tbody tr th {\n",
       "        vertical-align: top;\n",
       "    }\n",
       "\n",
       "    .dataframe thead th {\n",
       "        text-align: right;\n",
       "    }\n",
       "</style>\n",
       "<table border=\"1\" class=\"dataframe\">\n",
       "  <thead>\n",
       "    <tr style=\"text-align: right;\">\n",
       "      <th></th>\n",
       "      <th>ID</th>\n",
       "      <th>preco</th>\n",
       "    </tr>\n",
       "  </thead>\n",
       "  <tbody>\n",
       "    <tr>\n",
       "      <th>0</th>\n",
       "      <td>24813264385557040124808779273028388499</td>\n",
       "      <td>67228.421875</td>\n",
       "    </tr>\n",
       "    <tr>\n",
       "      <th>1</th>\n",
       "      <td>295636316453795508942188530111300065666</td>\n",
       "      <td>118745.132812</td>\n",
       "    </tr>\n",
       "    <tr>\n",
       "      <th>2</th>\n",
       "      <td>101258309166227950735244624080888109884</td>\n",
       "      <td>91524.984375</td>\n",
       "    </tr>\n",
       "    <tr>\n",
       "      <th>3</th>\n",
       "      <td>28348734455782469411126661985772047409</td>\n",
       "      <td>83163.031250</td>\n",
       "    </tr>\n",
       "    <tr>\n",
       "      <th>4</th>\n",
       "      <td>193163160502972147671913739170248305797</td>\n",
       "      <td>118306.226562</td>\n",
       "    </tr>\n",
       "  </tbody>\n",
       "</table>\n",
       "</div>"
      ],
      "text/plain": [
       "                                        ID          preco\n",
       "0   24813264385557040124808779273028388499   67228.421875\n",
       "1  295636316453795508942188530111300065666  118745.132812\n",
       "2  101258309166227950735244624080888109884   91524.984375\n",
       "3   28348734455782469411126661985772047409   83163.031250\n",
       "4  193163160502972147671913739170248305797  118306.226562"
      ]
     },
     "execution_count": 19,
     "metadata": {},
     "output_type": "execute_result"
    }
   ],
   "source": [
    "pred = xgb_tuned.predict(X_test_pp)\n",
    "df_final = pd.concat([df_test[['ID']], pd.Series(pred, name='preco')], axis=1)\n",
    "df_final.head()"
   ]
  },
  {
   "cell_type": "code",
   "execution_count": 20,
   "id": "82b1dad1",
   "metadata": {},
   "outputs": [],
   "source": [
    "df_final.to_csv('submission_tuned.csv', index=False) #Arquivo de submissão pronto para ser enviado."
   ]
  },
  {
   "cell_type": "code",
   "execution_count": 21,
   "id": "c48a35d7",
   "metadata": {},
   "outputs": [
    {
     "data": {
      "text/html": [
       "<div>\n",
       "<style scoped>\n",
       "    .dataframe tbody tr th:only-of-type {\n",
       "        vertical-align: middle;\n",
       "    }\n",
       "\n",
       "    .dataframe tbody tr th {\n",
       "        vertical-align: top;\n",
       "    }\n",
       "\n",
       "    .dataframe thead th {\n",
       "        text-align: right;\n",
       "    }\n",
       "</style>\n",
       "<table border=\"1\" class=\"dataframe\">\n",
       "  <thead>\n",
       "    <tr style=\"text-align: right;\">\n",
       "      <th></th>\n",
       "      <th>num_fotos</th>\n",
       "      <th>marca</th>\n",
       "      <th>modelo</th>\n",
       "      <th>versao</th>\n",
       "      <th>ano_de_fabricacao</th>\n",
       "      <th>ano_modelo</th>\n",
       "      <th>odometro</th>\n",
       "      <th>cambio</th>\n",
       "      <th>num_portas</th>\n",
       "      <th>tipo</th>\n",
       "      <th>...</th>\n",
       "      <th>troca</th>\n",
       "      <th>elegivel_revisao</th>\n",
       "      <th>attr_veiculo_aceita_troca</th>\n",
       "      <th>attr_veiculo_único_dono</th>\n",
       "      <th>attr_veiculo_todas_as_revisões_feitas_pela_concessionária</th>\n",
       "      <th>attr_veiculo_ipva_pago</th>\n",
       "      <th>attr_veiculo_licenciado</th>\n",
       "      <th>attr_veiculo_garantia_de_fábrica</th>\n",
       "      <th>attr_veiculo_todas_as_revisões_feitas_pela_agenda_do_carro</th>\n",
       "      <th>attr_veiculo_alienado</th>\n",
       "    </tr>\n",
       "  </thead>\n",
       "  <tbody>\n",
       "    <tr>\n",
       "      <th>0</th>\n",
       "      <td>8.0</td>\n",
       "      <td>6140</td>\n",
       "      <td>958</td>\n",
       "      <td>33</td>\n",
       "      <td>2017</td>\n",
       "      <td>2017.0</td>\n",
       "      <td>55672.0</td>\n",
       "      <td>30073</td>\n",
       "      <td>4</td>\n",
       "      <td>6426</td>\n",
       "      <td>...</td>\n",
       "      <td>False</td>\n",
       "      <td>False</td>\n",
       "      <td>29230</td>\n",
       "      <td>25548</td>\n",
       "      <td>12239</td>\n",
       "      <td>26223</td>\n",
       "      <td>21250</td>\n",
       "      <td>33658</td>\n",
       "      <td>7903</td>\n",
       "      <td>0.0</td>\n",
       "    </tr>\n",
       "    <tr>\n",
       "      <th>1</th>\n",
       "      <td>8.0</td>\n",
       "      <td>212</td>\n",
       "      <td>68</td>\n",
       "      <td>37</td>\n",
       "      <td>2017</td>\n",
       "      <td>2017.0</td>\n",
       "      <td>47858.0</td>\n",
       "      <td>30073</td>\n",
       "      <td>4</td>\n",
       "      <td>4458</td>\n",
       "      <td>...</td>\n",
       "      <td>False</td>\n",
       "      <td>False</td>\n",
       "      <td>29230</td>\n",
       "      <td>25548</td>\n",
       "      <td>12239</td>\n",
       "      <td>26223</td>\n",
       "      <td>18196</td>\n",
       "      <td>33658</td>\n",
       "      <td>7903</td>\n",
       "      <td>0.0</td>\n",
       "    </tr>\n",
       "    <tr>\n",
       "      <th>2</th>\n",
       "      <td>14.0</td>\n",
       "      <td>4020</td>\n",
       "      <td>817</td>\n",
       "      <td>158</td>\n",
       "      <td>2012</td>\n",
       "      <td>2013.0</td>\n",
       "      <td>122323.0</td>\n",
       "      <td>30073</td>\n",
       "      <td>4</td>\n",
       "      <td>21910</td>\n",
       "      <td>...</td>\n",
       "      <td>True</td>\n",
       "      <td>False</td>\n",
       "      <td>29230</td>\n",
       "      <td>25548</td>\n",
       "      <td>27207</td>\n",
       "      <td>13223</td>\n",
       "      <td>18196</td>\n",
       "      <td>33658</td>\n",
       "      <td>31543</td>\n",
       "      <td>0.0</td>\n",
       "    </tr>\n",
       "    <tr>\n",
       "      <th>3</th>\n",
       "      <td>8.0</td>\n",
       "      <td>470</td>\n",
       "      <td>46</td>\n",
       "      <td>9</td>\n",
       "      <td>2020</td>\n",
       "      <td>2021.0</td>\n",
       "      <td>14207.0</td>\n",
       "      <td>30073</td>\n",
       "      <td>2</td>\n",
       "      <td>6426</td>\n",
       "      <td>...</td>\n",
       "      <td>False</td>\n",
       "      <td>False</td>\n",
       "      <td>29230</td>\n",
       "      <td>25548</td>\n",
       "      <td>12239</td>\n",
       "      <td>13223</td>\n",
       "      <td>18196</td>\n",
       "      <td>33658</td>\n",
       "      <td>31543</td>\n",
       "      <td>0.0</td>\n",
       "    </tr>\n",
       "    <tr>\n",
       "      <th>4</th>\n",
       "      <td>8.0</td>\n",
       "      <td>363</td>\n",
       "      <td>47</td>\n",
       "      <td>7</td>\n",
       "      <td>2015</td>\n",
       "      <td>2016.0</td>\n",
       "      <td>43760.0</td>\n",
       "      <td>30073</td>\n",
       "      <td>4</td>\n",
       "      <td>4458</td>\n",
       "      <td>...</td>\n",
       "      <td>False</td>\n",
       "      <td>False</td>\n",
       "      <td>29230</td>\n",
       "      <td>25548</td>\n",
       "      <td>12239</td>\n",
       "      <td>13223</td>\n",
       "      <td>18196</td>\n",
       "      <td>33658</td>\n",
       "      <td>7903</td>\n",
       "      <td>0.0</td>\n",
       "    </tr>\n",
       "    <tr>\n",
       "      <th>...</th>\n",
       "      <td>...</td>\n",
       "      <td>...</td>\n",
       "      <td>...</td>\n",
       "      <td>...</td>\n",
       "      <td>...</td>\n",
       "      <td>...</td>\n",
       "      <td>...</td>\n",
       "      <td>...</td>\n",
       "      <td>...</td>\n",
       "      <td>...</td>\n",
       "      <td>...</td>\n",
       "      <td>...</td>\n",
       "      <td>...</td>\n",
       "      <td>...</td>\n",
       "      <td>...</td>\n",
       "      <td>...</td>\n",
       "      <td>...</td>\n",
       "      <td>...</td>\n",
       "      <td>...</td>\n",
       "      <td>...</td>\n",
       "      <td>...</td>\n",
       "    </tr>\n",
       "    <tr>\n",
       "      <th>39441</th>\n",
       "      <td>12.0</td>\n",
       "      <td>6140</td>\n",
       "      <td>199</td>\n",
       "      <td>51</td>\n",
       "      <td>2015</td>\n",
       "      <td>2015.0</td>\n",
       "      <td>73755.0</td>\n",
       "      <td>6631</td>\n",
       "      <td>4</td>\n",
       "      <td>21910</td>\n",
       "      <td>...</td>\n",
       "      <td>False</td>\n",
       "      <td>False</td>\n",
       "      <td>29230</td>\n",
       "      <td>13898</td>\n",
       "      <td>27207</td>\n",
       "      <td>26223</td>\n",
       "      <td>21250</td>\n",
       "      <td>33658</td>\n",
       "      <td>31543</td>\n",
       "      <td>0.0</td>\n",
       "    </tr>\n",
       "    <tr>\n",
       "      <th>39442</th>\n",
       "      <td>17.0</td>\n",
       "      <td>2375</td>\n",
       "      <td>64</td>\n",
       "      <td>55</td>\n",
       "      <td>2016</td>\n",
       "      <td>2017.0</td>\n",
       "      <td>78859.0</td>\n",
       "      <td>30073</td>\n",
       "      <td>4</td>\n",
       "      <td>6570</td>\n",
       "      <td>...</td>\n",
       "      <td>True</td>\n",
       "      <td>False</td>\n",
       "      <td>29230</td>\n",
       "      <td>25548</td>\n",
       "      <td>27207</td>\n",
       "      <td>13223</td>\n",
       "      <td>18196</td>\n",
       "      <td>33658</td>\n",
       "      <td>31543</td>\n",
       "      <td>0.0</td>\n",
       "    </tr>\n",
       "    <tr>\n",
       "      <th>39443</th>\n",
       "      <td>8.0</td>\n",
       "      <td>2246</td>\n",
       "      <td>1924</td>\n",
       "      <td>1825</td>\n",
       "      <td>2021</td>\n",
       "      <td>2022.0</td>\n",
       "      <td>9793.0</td>\n",
       "      <td>30073</td>\n",
       "      <td>4</td>\n",
       "      <td>21910</td>\n",
       "      <td>...</td>\n",
       "      <td>False</td>\n",
       "      <td>False</td>\n",
       "      <td>10216</td>\n",
       "      <td>13898</td>\n",
       "      <td>12239</td>\n",
       "      <td>26223</td>\n",
       "      <td>21250</td>\n",
       "      <td>5788</td>\n",
       "      <td>7903</td>\n",
       "      <td>0.0</td>\n",
       "    </tr>\n",
       "    <tr>\n",
       "      <th>39444</th>\n",
       "      <td>15.0</td>\n",
       "      <td>6140</td>\n",
       "      <td>958</td>\n",
       "      <td>15</td>\n",
       "      <td>2018</td>\n",
       "      <td>2019.0</td>\n",
       "      <td>51592.0</td>\n",
       "      <td>30073</td>\n",
       "      <td>4</td>\n",
       "      <td>21910</td>\n",
       "      <td>...</td>\n",
       "      <td>False</td>\n",
       "      <td>False</td>\n",
       "      <td>29230</td>\n",
       "      <td>25548</td>\n",
       "      <td>27207</td>\n",
       "      <td>13223</td>\n",
       "      <td>18196</td>\n",
       "      <td>33658</td>\n",
       "      <td>31543</td>\n",
       "      <td>0.0</td>\n",
       "    </tr>\n",
       "    <tr>\n",
       "      <th>39445</th>\n",
       "      <td>8.0</td>\n",
       "      <td>470</td>\n",
       "      <td>180</td>\n",
       "      <td>263</td>\n",
       "      <td>2017</td>\n",
       "      <td>2018.0</td>\n",
       "      <td>55225.0</td>\n",
       "      <td>30073</td>\n",
       "      <td>4</td>\n",
       "      <td>4458</td>\n",
       "      <td>...</td>\n",
       "      <td>False</td>\n",
       "      <td>False</td>\n",
       "      <td>29230</td>\n",
       "      <td>25548</td>\n",
       "      <td>27207</td>\n",
       "      <td>26223</td>\n",
       "      <td>21250</td>\n",
       "      <td>33658</td>\n",
       "      <td>31543</td>\n",
       "      <td>0.0</td>\n",
       "    </tr>\n",
       "  </tbody>\n",
       "</table>\n",
       "<p>39446 rows × 27 columns</p>\n",
       "</div>"
      ],
      "text/plain": [
       "       num_fotos  marca  modelo  versao  ano_de_fabricacao  ano_modelo  \\\n",
       "0            8.0   6140     958      33               2017      2017.0   \n",
       "1            8.0    212      68      37               2017      2017.0   \n",
       "2           14.0   4020     817     158               2012      2013.0   \n",
       "3            8.0    470      46       9               2020      2021.0   \n",
       "4            8.0    363      47       7               2015      2016.0   \n",
       "...          ...    ...     ...     ...                ...         ...   \n",
       "39441       12.0   6140     199      51               2015      2015.0   \n",
       "39442       17.0   2375      64      55               2016      2017.0   \n",
       "39443        8.0   2246    1924    1825               2021      2022.0   \n",
       "39444       15.0   6140     958      15               2018      2019.0   \n",
       "39445        8.0    470     180     263               2017      2018.0   \n",
       "\n",
       "       odometro  cambio  num_portas   tipo  ...  troca  elegivel_revisao  \\\n",
       "0       55672.0   30073           4   6426  ...  False             False   \n",
       "1       47858.0   30073           4   4458  ...  False             False   \n",
       "2      122323.0   30073           4  21910  ...   True             False   \n",
       "3       14207.0   30073           2   6426  ...  False             False   \n",
       "4       43760.0   30073           4   4458  ...  False             False   \n",
       "...         ...     ...         ...    ...  ...    ...               ...   \n",
       "39441   73755.0    6631           4  21910  ...  False             False   \n",
       "39442   78859.0   30073           4   6570  ...   True             False   \n",
       "39443    9793.0   30073           4  21910  ...  False             False   \n",
       "39444   51592.0   30073           4  21910  ...  False             False   \n",
       "39445   55225.0   30073           4   4458  ...  False             False   \n",
       "\n",
       "       attr_veiculo_aceita_troca  attr_veiculo_único_dono  \\\n",
       "0                          29230                    25548   \n",
       "1                          29230                    25548   \n",
       "2                          29230                    25548   \n",
       "3                          29230                    25548   \n",
       "4                          29230                    25548   \n",
       "...                          ...                      ...   \n",
       "39441                      29230                    13898   \n",
       "39442                      29230                    25548   \n",
       "39443                      10216                    13898   \n",
       "39444                      29230                    25548   \n",
       "39445                      29230                    25548   \n",
       "\n",
       "       attr_veiculo_todas_as_revisões_feitas_pela_concessionária  \\\n",
       "0                                                  12239           \n",
       "1                                                  12239           \n",
       "2                                                  27207           \n",
       "3                                                  12239           \n",
       "4                                                  12239           \n",
       "...                                                  ...           \n",
       "39441                                              27207           \n",
       "39442                                              27207           \n",
       "39443                                              12239           \n",
       "39444                                              27207           \n",
       "39445                                              27207           \n",
       "\n",
       "       attr_veiculo_ipva_pago  attr_veiculo_licenciado  \\\n",
       "0                       26223                    21250   \n",
       "1                       26223                    18196   \n",
       "2                       13223                    18196   \n",
       "3                       13223                    18196   \n",
       "4                       13223                    18196   \n",
       "...                       ...                      ...   \n",
       "39441                   26223                    21250   \n",
       "39442                   13223                    18196   \n",
       "39443                   26223                    21250   \n",
       "39444                   13223                    18196   \n",
       "39445                   26223                    21250   \n",
       "\n",
       "       attr_veiculo_garantia_de_fábrica  \\\n",
       "0                                 33658   \n",
       "1                                 33658   \n",
       "2                                 33658   \n",
       "3                                 33658   \n",
       "4                                 33658   \n",
       "...                                 ...   \n",
       "39441                             33658   \n",
       "39442                             33658   \n",
       "39443                              5788   \n",
       "39444                             33658   \n",
       "39445                             33658   \n",
       "\n",
       "       attr_veiculo_todas_as_revisões_feitas_pela_agenda_do_carro  \\\n",
       "0                                                   7903            \n",
       "1                                                   7903            \n",
       "2                                                  31543            \n",
       "3                                                  31543            \n",
       "4                                                   7903            \n",
       "...                                                  ...            \n",
       "39441                                              31543            \n",
       "39442                                              31543            \n",
       "39443                                               7903            \n",
       "39444                                              31543            \n",
       "39445                                              31543            \n",
       "\n",
       "       attr_veiculo_alienado  \n",
       "0                        0.0  \n",
       "1                        0.0  \n",
       "2                        0.0  \n",
       "3                        0.0  \n",
       "4                        0.0  \n",
       "...                      ...  \n",
       "39441                    0.0  \n",
       "39442                    0.0  \n",
       "39443                    0.0  \n",
       "39444                    0.0  \n",
       "39445                    0.0  \n",
       "\n",
       "[39446 rows x 27 columns]"
      ]
     },
     "execution_count": 21,
     "metadata": {},
     "output_type": "execute_result"
    }
   ],
   "source": [
    "X_pp"
   ]
  },
  {
   "cell_type": "markdown",
   "id": "d46480ff",
   "metadata": {},
   "source": [
    "# Meu Modelo 2\n",
    "subsample = 0.8, objective = 'reg:squarederror', n_estimators = 1500, min_child_weight = 5, max_depth = 6, gamma = 0.4,eval_metric = 'rmse', eta = 0.1, colsample_bytree = 0.7, booster = 'gbtree'"
   ]
  },
  {
   "cell_type": "code",
   "execution_count": 30,
   "id": "ae841fb5",
   "metadata": {},
   "outputs": [],
   "source": [
    "# y = df_train['preco']\n",
    "# X = df_train.drop(columns=['ID', 'preco'])\n",
    "# cat_cols = df_train.select_dtypes(include=['object']).columns[1:]\n",
    "\n",
    "# te = CountEncoder(cols=cat_cols, return_df=True)\n",
    "# X_pp = te.fit_transform(df_train.drop(columns=['ID', 'preco']), df_train['preco'])\n",
    "\n",
    "# X_pp = X_pp.fillna(0)\n",
    "\n",
    "#xgb_tuned = XGBRegressor(n_estimators= 1700, eta= 0.01, max_depth= 9, subsample= 0.5, colsample_bytree= 0.5, min_child_weight= 3) \n",
    "xgb_tuned.fit(X_pp, y)\n",
    "\n",
    "# X_test_pp = te.transform(df_test.drop(columns=['ID']))\n",
    "# X_test_pp = X_test_pp.fillna(0)\n",
    "\n",
    "pred = xgb_tuned2.predict(X_test_pp)\n",
    "\n",
    "df_final = pd.concat([df_test[['ID']], pd.Series(pred, name='preco')], axis=1)\n",
    "df_final.head()\n",
    "\n",
    "df_final.to_csv('submission.csv', index=False)"
   ]
  },
  {
   "cell_type": "code",
   "execution_count": 31,
   "id": "eb2349f5",
   "metadata": {},
   "outputs": [],
   "source": [
    "MAE_tuned2 = cross_validate(xgb_tuned2, X_pp, y, cv=5 , scoring = 'neg_mean_absolute_error')"
   ]
  },
  {
   "cell_type": "code",
   "execution_count": 34,
   "id": "f79e9246",
   "metadata": {},
   "outputs": [
    {
     "name": "stdout",
     "output_type": "stream",
     "text": [
      "{'fit_time': array([101.85734296,  91.18215299,  93.45906091, 112.13858294,\n",
      "        89.98887205]), 'score_time': array([0.3050108 , 0.51249099, 0.50763798, 0.3975141 , 0.37474513]), 'test_score': array([-26884.9127774 , -27353.48382398, -26584.8522271 , -27359.17968236,\n",
      "       -27014.21338493])}\n",
      "-27039.328379152394\n"
     ]
    }
   ],
   "source": [
    "print(MAE_tuned2)\n",
    "print(np.mean(MAE_tuned2['test_score']))\n"
   ]
  },
  {
   "cell_type": "markdown",
   "id": "8445d576",
   "metadata": {},
   "source": [
    "## Modelo 3: Parametros do 1 com log(preco)"
   ]
  },
  {
   "cell_type": "code",
   "execution_count": 44,
   "id": "895d26ce",
   "metadata": {},
   "outputs": [
    {
     "data": {
      "image/png": "[encoded data removed]",
      "text/plain": [
       "<Figure size 360x360 with 1 Axes>"
      ]
     },
     "metadata": {
      "needs_background": "light"
     },
     "output_type": "display_data"
    }
   ],
   "source": [
    "import seaborn as sns\n",
    "sns.displot(y);\n"
   ]
  },
  {
   "cell_type": "code",
   "execution_count": 45,
   "id": "e65d3ec9",
   "metadata": {},
   "outputs": [
    {
     "data": {
      "image/png": "[encoded data removed]",
      "text/plain": [
       "<Figure size 360x360 with 1 Axes>"
      ]
     },
     "metadata": {
      "needs_background": "light"
     },
     "output_type": "display_data"
    }
   ],
   "source": [
    "sns.displot(np.log1p(y));"
   ]
  },
  {
   "cell_type": "code",
   "execution_count": 46,
   "id": "c394a6e6",
   "metadata": {},
   "outputs": [
    {
     "ename": "NameError",
     "evalue": "name 'pred3' is not defined",
     "output_type": "error",
     "traceback": [
      "\u001b[0;31m---------------------------------------------------------------------------\u001b[0m",
      "\u001b[0;31mNameError\u001b[0m                                 Traceback (most recent call last)",
      "\u001b[0;32m/var/folders/tt/llj5w1r9581_51t096p4160h0000gn/T/ipykernel_18341/2143903654.py\u001b[0m in \u001b[0;36m<module>\u001b[0;34m\u001b[0m\n\u001b[1;32m     17\u001b[0m \u001b[0;34m\u001b[0m\u001b[0m\n\u001b[1;32m     18\u001b[0m \u001b[0mpred3_log\u001b[0m \u001b[0;34m=\u001b[0m \u001b[0mxgb_tuned3\u001b[0m\u001b[0;34m.\u001b[0m\u001b[0mpredict\u001b[0m\u001b[0;34m(\u001b[0m\u001b[0mX_test_pp\u001b[0m\u001b[0;34m)\u001b[0m\u001b[0;34m\u001b[0m\u001b[0;34m\u001b[0m\u001b[0m\n\u001b[0;32m---> 19\u001b[0;31m \u001b[0mpred3\u001b[0m \u001b[0;34m=\u001b[0m \u001b[0mnp\u001b[0m\u001b[0;34m.\u001b[0m\u001b[0mexpm1\u001b[0m\u001b[0;34m(\u001b[0m\u001b[0mpred3\u001b[0m\u001b[0;34m)\u001b[0m\u001b[0;34m\u001b[0m\u001b[0;34m\u001b[0m\u001b[0m\n\u001b[0m\u001b[1;32m     20\u001b[0m \u001b[0;34m\u001b[0m\u001b[0m\n\u001b[1;32m     21\u001b[0m \u001b[0mdf_final\u001b[0m \u001b[0;34m=\u001b[0m \u001b[0mpd\u001b[0m\u001b[0;34m.\u001b[0m\u001b[0mconcat\u001b[0m\u001b[0;34m(\u001b[0m\u001b[0;34m[\u001b[0m\u001b[0mdf_test\u001b[0m\u001b[0;34m[\u001b[0m\u001b[0;34m[\u001b[0m\u001b[0;34m'ID'\u001b[0m\u001b[0;34m]\u001b[0m\u001b[0;34m]\u001b[0m\u001b[0;34m,\u001b[0m \u001b[0mpd\u001b[0m\u001b[0;34m.\u001b[0m\u001b[0mSeries\u001b[0m\u001b[0;34m(\u001b[0m\u001b[0mpred3\u001b[0m\u001b[0;34m,\u001b[0m \u001b[0mname\u001b[0m\u001b[0;34m=\u001b[0m\u001b[0;34m'preco'\u001b[0m\u001b[0;34m)\u001b[0m\u001b[0;34m]\u001b[0m\u001b[0;34m,\u001b[0m \u001b[0maxis\u001b[0m\u001b[0;34m=\u001b[0m\u001b[0;36m1\u001b[0m\u001b[0;34m)\u001b[0m\u001b[0;34m\u001b[0m\u001b[0;34m\u001b[0m\u001b[0m\n",
      "\u001b[0;31mNameError\u001b[0m: name 'pred3' is not defined"
     ]
    }
   ],
   "source": [
    "# y = df_train['preco']\n",
    "# X = df_train.drop(columns=['ID', 'preco'])\n",
    "# cat_cols = df_train.select_dtypes(include=['object']).columns[1:]\n",
    "\n",
    "# te = CountEncoder(cols=cat_cols, return_df=True)\n",
    "# X_pp = te.fit_transform(df_train.drop(columns=['ID', 'preco']), df_train['preco'])\n",
    "\n",
    "# X_pp = X_pp.fillna(0)\n",
    "\n",
    "# xgb_tuned2 = XGBRegressor(subsample = 0.8, objective = 'reg:squarederror', n_estimators = 1500, min_child_weight = 5, max_depth = 6, gamma = 0.4, eval_metric = 'rmse', eta = 0.1, colsample_bytree = 0.7, booster = 'gbtree') \n",
    "xgb_tuned3 = xgb_tuned\n",
    "xgb_tuned3.fit(X_pp, np.log1p(y))\n",
    "\n",
    "\n",
    "# X_test_pp = te.transform(df_test.drop(columns=['ID']))\n",
    "# X_test_pp = X_test_pp.fillna(0)\n",
    "\n",
    "pred3_log = xgb_tuned3.predict(X_test_pp)\n"
   ]
  },
  {
   "cell_type": "code",
   "execution_count": 47,
   "id": "573ba783",
   "metadata": {},
   "outputs": [],
   "source": [
    "pred3 = np.expm1(pred3_log)\n",
    "\n",
    "df_final = pd.concat([df_test[['ID']], pd.Series(pred3, name='preco')], axis=1)\n",
    "df_final.head()\n",
    "\n",
    "df_final.to_csv('submission3.csv', index=False)"
   ]
  },
  {
   "cell_type": "code",
   "execution_count": 48,
   "id": "846219ca",
   "metadata": {},
   "outputs": [],
   "source": [
    "MAE_tuned3 = cross_validate(xgb_tuned3, X_pp, np.log1p(y), cv=5 , scoring = 'neg_mean_absolute_error')"
   ]
  },
  {
   "cell_type": "code",
   "execution_count": 50,
   "id": "cd84852b",
   "metadata": {},
   "outputs": [
    {
     "name": "stdout",
     "output_type": "stream",
     "text": [
      "{'fit_time': array([126.37681007, 199.88102603, 175.58742714, 108.64087105,\n",
      "       226.87159967]), 'score_time': array([1.02905607, 1.35946584, 0.72597098, 0.73114896, 1.35124826]), 'test_score': array([-0.19669188, -0.19927124, -0.1984801 , -0.20009569, -0.20035608])}\n",
      "-0.18043218080667828\n"
     ]
    }
   ],
   "source": [
    "print(MAE_tuned3)\n",
    "print(np.mean(np.expm1(MAE_tuned3['test_score'])))"
   ]
  },
  {
   "cell_type": "markdown",
   "id": "58887fe9",
   "metadata": {},
   "source": [
    "## Modelo 4"
   ]
  },
  {
   "cell_type": "code",
   "execution_count": 51,
   "id": "a37bb21d",
   "metadata": {},
   "outputs": [],
   "source": [
    "xgb_tuned4 = XGBRegressor(n_estimators= 3000, eta= 0.01, max_depth= 9, subsample= 0.5, colsample_bytree= 0.3, min_child_weight= 3)\n",
    "\n",
    "xgb_tuned4.fit(X_pp, np.log1p(y))\n",
    "\n",
    "\n",
    "# X_test_pp = te.transform(df_test.drop(columns=['ID']))\n",
    "# X_test_pp = X_test_pp.fillna(0)\n",
    "\n",
    "pred4_log = xgb_tuned4.predict(X_test_pp)"
   ]
  },
  {
   "cell_type": "code",
   "execution_count": null,
   "id": "85638830",
   "metadata": {},
   "outputs": [],
   "source": [
    "pred4 = np.expm1(pred4_log)\n",
    "\n",
    "df_final = pd.concat([df_test[['ID']], pd.Series(pred4, name='preco')], axis=1)\n",
    "df_final.head()\n",
    "\n",
    "df_final.to_csv('submission4.csv', index=False)"
   ]
  },
  {
   "cell_type": "markdown",
   "id": "e2eaf083",
   "metadata": {},
   "source": [
    "## Random Search"
   ]
  },
  {
   "cell_type": "code",
   "execution_count": null,
   "id": "6ae53725",
   "metadata": {},
   "outputs": [],
   "source": [
    "from sklearn.model_selection import RandomizedSearchCV\n",
    "\n",
    "params = {\n",
    "    'n_estimators':[1500, 1750, 2000],\n",
    "    'min_child_weight':[2,3,4,5], \n",
    "    'gamma':[i/10.0 for i in range(1,6)],\n",
    "    'subsample':[i/10.0 for i in range(7,13)],\n",
    "    'colsample_bytree':[i/10.0 for i in range(1,8)], \n",
    "    'max_depth': [6,7,8,9],\n",
    "    'objective': ['reg:squarederror', 'reg:tweedie'],\n",
    "    'booster': ['gbtree', 'gblinear'],\n",
    "    'eval_metric': ['rmse'],\n",
    "    'eta': [i/10.0 for i in range(1,6)],\n",
    "}\n",
    "\n",
    "reg = XGBRegressor(nthread=-1)\n",
    "\n",
    "# run randomized search\n",
    "# n_iter_search = 100\n",
    "n_iter_search = 10\n",
    "random_search = RandomizedSearchCV(reg, param_distributions=params,\n",
    "                                   n_iter=n_iter_search, cv=5, scoring='neg_mean_squared_error')\n",
    "\n",
    "start = time.time()\n",
    "random_search.fit(X_pp, np.log1p(y))\n",
    "print(\"RandomizedSearchCV took %.2f seconds for %d candidates\"\n",
    "      \" parameter settings.\" % ((time.time() - start), n_iter_search))\n"
   ]
  },
  {
   "cell_type": "markdown",
   "id": "a82ed5af",
   "metadata": {},
   "source": [
    "## Sweetviz"
   ]
  },
  {
   "cell_type": "code",
   "execution_count": null,
   "id": "d6711879",
   "metadata": {},
   "outputs": [],
   "source": []
  },
  {
   "cell_type": "code",
   "execution_count": 27,
   "id": "f07bb3bc",
   "metadata": {},
   "outputs": [
    {
     "ename": "ModuleNotFoundError",
     "evalue": "No module named 'sweetviz'",
     "output_type": "error",
     "traceback": [
      "\u001b[0;31m---------------------------------------------------------------------------\u001b[0m",
      "\u001b[0;31mModuleNotFoundError\u001b[0m                       Traceback (most recent call last)",
      "\u001b[0;32m/var/folders/tt/llj5w1r9581_51t096p4160h0000gn/T/ipykernel_18341/2484308545.py\u001b[0m in \u001b[0;36m<module>\u001b[0;34m\u001b[0m\n\u001b[0;32m----> 1\u001b[0;31m \u001b[0;32mimport\u001b[0m \u001b[0msweetviz\u001b[0m \u001b[0;32mas\u001b[0m \u001b[0msv\u001b[0m\u001b[0;34m\u001b[0m\u001b[0;34m\u001b[0m\u001b[0m\n\u001b[0m",
      "\u001b[0;31mModuleNotFoundError\u001b[0m: No module named 'sweetviz'"
     ]
    }
   ],
   "source": [
    "import sweetviz as sv"
   ]
  },
  {
   "cell_type": "code",
   "execution_count": 35,
   "id": "c4624bed",
   "metadata": {},
   "outputs": [
    {
     "data": {
      "text/html": [
       "<div>\n",
       "<style scoped>\n",
       "    .dataframe tbody tr th:only-of-type {\n",
       "        vertical-align: middle;\n",
       "    }\n",
       "\n",
       "    .dataframe tbody tr th {\n",
       "        vertical-align: top;\n",
       "    }\n",
       "\n",
       "    .dataframe thead th {\n",
       "        text-align: right;\n",
       "    }\n",
       "</style>\n",
       "<table border=\"1\" class=\"dataframe\">\n",
       "  <thead>\n",
       "    <tr style=\"text-align: right;\">\n",
       "      <th></th>\n",
       "      <th>num_fotos</th>\n",
       "      <th>marca</th>\n",
       "      <th>modelo</th>\n",
       "      <th>versao</th>\n",
       "      <th>ano_de_fabricacao</th>\n",
       "      <th>ano_modelo</th>\n",
       "      <th>odometro</th>\n",
       "      <th>cambio</th>\n",
       "      <th>num_portas</th>\n",
       "      <th>tipo</th>\n",
       "      <th>...</th>\n",
       "      <th>troca</th>\n",
       "      <th>elegivel_revisao</th>\n",
       "      <th>attr_veiculo_aceita_troca</th>\n",
       "      <th>attr_veiculo_único_dono</th>\n",
       "      <th>attr_veiculo_todas_as_revisões_feitas_pela_concessionária</th>\n",
       "      <th>attr_veiculo_ipva_pago</th>\n",
       "      <th>attr_veiculo_licenciado</th>\n",
       "      <th>attr_veiculo_garantia_de_fábrica</th>\n",
       "      <th>attr_veiculo_todas_as_revisões_feitas_pela_agenda_do_carro</th>\n",
       "      <th>attr_veiculo_alienado</th>\n",
       "    </tr>\n",
       "  </thead>\n",
       "  <tbody>\n",
       "    <tr>\n",
       "      <th>0</th>\n",
       "      <td>8.0</td>\n",
       "      <td>6140</td>\n",
       "      <td>958</td>\n",
       "      <td>33</td>\n",
       "      <td>2017</td>\n",
       "      <td>2017.0</td>\n",
       "      <td>55672.0</td>\n",
       "      <td>30073</td>\n",
       "      <td>4</td>\n",
       "      <td>6426</td>\n",
       "      <td>...</td>\n",
       "      <td>False</td>\n",
       "      <td>False</td>\n",
       "      <td>29230</td>\n",
       "      <td>25548</td>\n",
       "      <td>12239</td>\n",
       "      <td>26223</td>\n",
       "      <td>21250</td>\n",
       "      <td>33658</td>\n",
       "      <td>7903</td>\n",
       "      <td>0.0</td>\n",
       "    </tr>\n",
       "    <tr>\n",
       "      <th>1</th>\n",
       "      <td>8.0</td>\n",
       "      <td>212</td>\n",
       "      <td>68</td>\n",
       "      <td>37</td>\n",
       "      <td>2017</td>\n",
       "      <td>2017.0</td>\n",
       "      <td>47858.0</td>\n",
       "      <td>30073</td>\n",
       "      <td>4</td>\n",
       "      <td>4458</td>\n",
       "      <td>...</td>\n",
       "      <td>False</td>\n",
       "      <td>False</td>\n",
       "      <td>29230</td>\n",
       "      <td>25548</td>\n",
       "      <td>12239</td>\n",
       "      <td>26223</td>\n",
       "      <td>18196</td>\n",
       "      <td>33658</td>\n",
       "      <td>7903</td>\n",
       "      <td>0.0</td>\n",
       "    </tr>\n",
       "    <tr>\n",
       "      <th>2</th>\n",
       "      <td>14.0</td>\n",
       "      <td>4020</td>\n",
       "      <td>817</td>\n",
       "      <td>158</td>\n",
       "      <td>2012</td>\n",
       "      <td>2013.0</td>\n",
       "      <td>122323.0</td>\n",
       "      <td>30073</td>\n",
       "      <td>4</td>\n",
       "      <td>21910</td>\n",
       "      <td>...</td>\n",
       "      <td>True</td>\n",
       "      <td>False</td>\n",
       "      <td>29230</td>\n",
       "      <td>25548</td>\n",
       "      <td>27207</td>\n",
       "      <td>13223</td>\n",
       "      <td>18196</td>\n",
       "      <td>33658</td>\n",
       "      <td>31543</td>\n",
       "      <td>0.0</td>\n",
       "    </tr>\n",
       "    <tr>\n",
       "      <th>3</th>\n",
       "      <td>8.0</td>\n",
       "      <td>470</td>\n",
       "      <td>46</td>\n",
       "      <td>9</td>\n",
       "      <td>2020</td>\n",
       "      <td>2021.0</td>\n",
       "      <td>14207.0</td>\n",
       "      <td>30073</td>\n",
       "      <td>2</td>\n",
       "      <td>6426</td>\n",
       "      <td>...</td>\n",
       "      <td>False</td>\n",
       "      <td>False</td>\n",
       "      <td>29230</td>\n",
       "      <td>25548</td>\n",
       "      <td>12239</td>\n",
       "      <td>13223</td>\n",
       "      <td>18196</td>\n",
       "      <td>33658</td>\n",
       "      <td>31543</td>\n",
       "      <td>0.0</td>\n",
       "    </tr>\n",
       "    <tr>\n",
       "      <th>4</th>\n",
       "      <td>8.0</td>\n",
       "      <td>363</td>\n",
       "      <td>47</td>\n",
       "      <td>7</td>\n",
       "      <td>2015</td>\n",
       "      <td>2016.0</td>\n",
       "      <td>43760.0</td>\n",
       "      <td>30073</td>\n",
       "      <td>4</td>\n",
       "      <td>4458</td>\n",
       "      <td>...</td>\n",
       "      <td>False</td>\n",
       "      <td>False</td>\n",
       "      <td>29230</td>\n",
       "      <td>25548</td>\n",
       "      <td>12239</td>\n",
       "      <td>13223</td>\n",
       "      <td>18196</td>\n",
       "      <td>33658</td>\n",
       "      <td>7903</td>\n",
       "      <td>0.0</td>\n",
       "    </tr>\n",
       "    <tr>\n",
       "      <th>...</th>\n",
       "      <td>...</td>\n",
       "      <td>...</td>\n",
       "      <td>...</td>\n",
       "      <td>...</td>\n",
       "      <td>...</td>\n",
       "      <td>...</td>\n",
       "      <td>...</td>\n",
       "      <td>...</td>\n",
       "      <td>...</td>\n",
       "      <td>...</td>\n",
       "      <td>...</td>\n",
       "      <td>...</td>\n",
       "      <td>...</td>\n",
       "      <td>...</td>\n",
       "      <td>...</td>\n",
       "      <td>...</td>\n",
       "      <td>...</td>\n",
       "      <td>...</td>\n",
       "      <td>...</td>\n",
       "      <td>...</td>\n",
       "      <td>...</td>\n",
       "    </tr>\n",
       "    <tr>\n",
       "      <th>39441</th>\n",
       "      <td>12.0</td>\n",
       "      <td>6140</td>\n",
       "      <td>199</td>\n",
       "      <td>51</td>\n",
       "      <td>2015</td>\n",
       "      <td>2015.0</td>\n",
       "      <td>73755.0</td>\n",
       "      <td>6631</td>\n",
       "      <td>4</td>\n",
       "      <td>21910</td>\n",
       "      <td>...</td>\n",
       "      <td>False</td>\n",
       "      <td>False</td>\n",
       "      <td>29230</td>\n",
       "      <td>13898</td>\n",
       "      <td>27207</td>\n",
       "      <td>26223</td>\n",
       "      <td>21250</td>\n",
       "      <td>33658</td>\n",
       "      <td>31543</td>\n",
       "      <td>0.0</td>\n",
       "    </tr>\n",
       "    <tr>\n",
       "      <th>39442</th>\n",
       "      <td>17.0</td>\n",
       "      <td>2375</td>\n",
       "      <td>64</td>\n",
       "      <td>55</td>\n",
       "      <td>2016</td>\n",
       "      <td>2017.0</td>\n",
       "      <td>78859.0</td>\n",
       "      <td>30073</td>\n",
       "      <td>4</td>\n",
       "      <td>6570</td>\n",
       "      <td>...</td>\n",
       "      <td>True</td>\n",
       "      <td>False</td>\n",
       "      <td>29230</td>\n",
       "      <td>25548</td>\n",
       "      <td>27207</td>\n",
       "      <td>13223</td>\n",
       "      <td>18196</td>\n",
       "      <td>33658</td>\n",
       "      <td>31543</td>\n",
       "      <td>0.0</td>\n",
       "    </tr>\n",
       "    <tr>\n",
       "      <th>39443</th>\n",
       "      <td>8.0</td>\n",
       "      <td>2246</td>\n",
       "      <td>1924</td>\n",
       "      <td>1825</td>\n",
       "      <td>2021</td>\n",
       "      <td>2022.0</td>\n",
       "      <td>9793.0</td>\n",
       "      <td>30073</td>\n",
       "      <td>4</td>\n",
       "      <td>21910</td>\n",
       "      <td>...</td>\n",
       "      <td>False</td>\n",
       "      <td>False</td>\n",
       "      <td>10216</td>\n",
       "      <td>13898</td>\n",
       "      <td>12239</td>\n",
       "      <td>26223</td>\n",
       "      <td>21250</td>\n",
       "      <td>5788</td>\n",
       "      <td>7903</td>\n",
       "      <td>0.0</td>\n",
       "    </tr>\n",
       "    <tr>\n",
       "      <th>39444</th>\n",
       "      <td>15.0</td>\n",
       "      <td>6140</td>\n",
       "      <td>958</td>\n",
       "      <td>15</td>\n",
       "      <td>2018</td>\n",
       "      <td>2019.0</td>\n",
       "      <td>51592.0</td>\n",
       "      <td>30073</td>\n",
       "      <td>4</td>\n",
       "      <td>21910</td>\n",
       "      <td>...</td>\n",
       "      <td>False</td>\n",
       "      <td>False</td>\n",
       "      <td>29230</td>\n",
       "      <td>25548</td>\n",
       "      <td>27207</td>\n",
       "      <td>13223</td>\n",
       "      <td>18196</td>\n",
       "      <td>33658</td>\n",
       "      <td>31543</td>\n",
       "      <td>0.0</td>\n",
       "    </tr>\n",
       "    <tr>\n",
       "      <th>39445</th>\n",
       "      <td>8.0</td>\n",
       "      <td>470</td>\n",
       "      <td>180</td>\n",
       "      <td>263</td>\n",
       "      <td>2017</td>\n",
       "      <td>2018.0</td>\n",
       "      <td>55225.0</td>\n",
       "      <td>30073</td>\n",
       "      <td>4</td>\n",
       "      <td>4458</td>\n",
       "      <td>...</td>\n",
       "      <td>False</td>\n",
       "      <td>False</td>\n",
       "      <td>29230</td>\n",
       "      <td>25548</td>\n",
       "      <td>27207</td>\n",
       "      <td>26223</td>\n",
       "      <td>21250</td>\n",
       "      <td>33658</td>\n",
       "      <td>31543</td>\n",
       "      <td>0.0</td>\n",
       "    </tr>\n",
       "  </tbody>\n",
       "</table>\n",
       "<p>39446 rows × 27 columns</p>\n",
       "</div>"
      ],
      "text/plain": [
       "       num_fotos  marca  modelo  versao  ano_de_fabricacao  ano_modelo  \\\n",
       "0            8.0   6140     958      33               2017      2017.0   \n",
       "1            8.0    212      68      37               2017      2017.0   \n",
       "2           14.0   4020     817     158               2012      2013.0   \n",
       "3            8.0    470      46       9               2020      2021.0   \n",
       "4            8.0    363      47       7               2015      2016.0   \n",
       "...          ...    ...     ...     ...                ...         ...   \n",
       "39441       12.0   6140     199      51               2015      2015.0   \n",
       "39442       17.0   2375      64      55               2016      2017.0   \n",
       "39443        8.0   2246    1924    1825               2021      2022.0   \n",
       "39444       15.0   6140     958      15               2018      2019.0   \n",
       "39445        8.0    470     180     263               2017      2018.0   \n",
       "\n",
       "       odometro  cambio  num_portas   tipo  ...  troca  elegivel_revisao  \\\n",
       "0       55672.0   30073           4   6426  ...  False             False   \n",
       "1       47858.0   30073           4   4458  ...  False             False   \n",
       "2      122323.0   30073           4  21910  ...   True             False   \n",
       "3       14207.0   30073           2   6426  ...  False             False   \n",
       "4       43760.0   30073           4   4458  ...  False             False   \n",
       "...         ...     ...         ...    ...  ...    ...               ...   \n",
       "39441   73755.0    6631           4  21910  ...  False             False   \n",
       "39442   78859.0   30073           4   6570  ...   True             False   \n",
       "39443    9793.0   30073           4  21910  ...  False             False   \n",
       "39444   51592.0   30073           4  21910  ...  False             False   \n",
       "39445   55225.0   30073           4   4458  ...  False             False   \n",
       "\n",
       "       attr_veiculo_aceita_troca  attr_veiculo_único_dono  \\\n",
       "0                          29230                    25548   \n",
       "1                          29230                    25548   \n",
       "2                          29230                    25548   \n",
       "3                          29230                    25548   \n",
       "4                          29230                    25548   \n",
       "...                          ...                      ...   \n",
       "39441                      29230                    13898   \n",
       "39442                      29230                    25548   \n",
       "39443                      10216                    13898   \n",
       "39444                      29230                    25548   \n",
       "39445                      29230                    25548   \n",
       "\n",
       "       attr_veiculo_todas_as_revisões_feitas_pela_concessionária  \\\n",
       "0                                                  12239           \n",
       "1                                                  12239           \n",
       "2                                                  27207           \n",
       "3                                                  12239           \n",
       "4                                                  12239           \n",
       "...                                                  ...           \n",
       "39441                                              27207           \n",
       "39442                                              27207           \n",
       "39443                                              12239           \n",
       "39444                                              27207           \n",
       "39445                                              27207           \n",
       "\n",
       "       attr_veiculo_ipva_pago  attr_veiculo_licenciado  \\\n",
       "0                       26223                    21250   \n",
       "1                       26223                    18196   \n",
       "2                       13223                    18196   \n",
       "3                       13223                    18196   \n",
       "4                       13223                    18196   \n",
       "...                       ...                      ...   \n",
       "39441                   26223                    21250   \n",
       "39442                   13223                    18196   \n",
       "39443                   26223                    21250   \n",
       "39444                   13223                    18196   \n",
       "39445                   26223                    21250   \n",
       "\n",
       "       attr_veiculo_garantia_de_fábrica  \\\n",
       "0                                 33658   \n",
       "1                                 33658   \n",
       "2                                 33658   \n",
       "3                                 33658   \n",
       "4                                 33658   \n",
       "...                                 ...   \n",
       "39441                             33658   \n",
       "39442                             33658   \n",
       "39443                              5788   \n",
       "39444                             33658   \n",
       "39445                             33658   \n",
       "\n",
       "       attr_veiculo_todas_as_revisões_feitas_pela_agenda_do_carro  \\\n",
       "0                                                   7903            \n",
       "1                                                   7903            \n",
       "2                                                  31543            \n",
       "3                                                  31543            \n",
       "4                                                   7903            \n",
       "...                                                  ...            \n",
       "39441                                              31543            \n",
       "39442                                              31543            \n",
       "39443                                               7903            \n",
       "39444                                              31543            \n",
       "39445                                              31543            \n",
       "\n",
       "       attr_veiculo_alienado  \n",
       "0                        0.0  \n",
       "1                        0.0  \n",
       "2                        0.0  \n",
       "3                        0.0  \n",
       "4                        0.0  \n",
       "...                      ...  \n",
       "39441                    0.0  \n",
       "39442                    0.0  \n",
       "39443                    0.0  \n",
       "39444                    0.0  \n",
       "39445                    0.0  \n",
       "\n",
       "[39446 rows x 27 columns]"
      ]
     },
     "execution_count": 35,
     "metadata": {},
     "output_type": "execute_result"
    }
   ],
   "source": [
    "X_pp"
   ]
  },
  {
   "cell_type": "code",
   "execution_count": null,
   "id": "2747ca2e",
   "metadata": {},
   "outputs": [],
   "source": []
  }
 ],
 "metadata": {
  "kernelspec": {
   "display_name": "Python 3.9.7 ('base')",
   "language": "python",
   "name": "python3"
  },
  "language_info": {
   "codemirror_mode": {
    "name": "ipython",
    "version": 3
   },
   "file_extension": ".py",
   "mimetype": "text/x-python",
   "name": "python",
   "nbconvert_exporter": "python",
   "pygments_lexer": "ipython3",
   "version": "3.9.7"
  },
  "papermill": {
   "default_parameters": {},
   "duration": 21.424247,
   "end_time": "2022-08-21T16:30:32.931510",
   "environment_variables": {},
   "exception": null,
   "input_path": "__notebook__.ipynb",
   "output_path": "__notebook__.ipynb",
   "parameters": {},
   "start_time": "2022-08-21T16:30:11.507263",
   "version": "2.3.4"
  },
  "vscode": {
   "interpreter": {
    "hash": "40d3a090f54c6569ab1632332b64b2c03c39dcf918b08424e98f38b5ae0af88f"
   }
  }
 },
 "nbformat": 4,
 "nbformat_minor": 5
}
